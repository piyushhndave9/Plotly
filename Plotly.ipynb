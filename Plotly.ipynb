{
  "nbformat": 4,
  "nbformat_minor": 0,
  "metadata": {
    "colab": {
      "name": "Plotly.ipynb",
      "provenance": [],
      "collapsed_sections": []
    },
    "kernelspec": {
      "name": "python3",
      "display_name": "Python 3"
    }
  },
  "cells": [
    {
      "cell_type": "code",
      "metadata": {
        "id": "9Ssp70zry77L"
      },
      "source": [
        "!pip install plotly"
      ],
      "execution_count": null,
      "outputs": []
    },
    {
      "cell_type": "code",
      "metadata": {
        "id": "PtPnmfPNQ1no"
      },
      "source": [
        "import plotly.express as px\n",
        "\n",
        "fig = px.line(x=[\"10\",\"20\",\"30\"], y=[1,5,2], title=\"sample figure\")\n",
        "\n",
        "fig.show()"
      ],
      "execution_count": null,
      "outputs": []
    },
    {
      "cell_type": "code",
      "metadata": {
        "id": "nBU5WuPMSKsX"
      },
      "source": [
        "import plotly.graph_objects as go\n",
        "fig = go.Figure(\n",
        "    data=[go.Bar(y=[20, 10, 30])],\n",
        "    layout_title_text=\"A Figure Displayed with fig.show()\"\n",
        ")\n",
        "fig.show()"
      ],
      "execution_count": null,
      "outputs": []
    },
    {
      "cell_type": "code",
      "metadata": {
        "id": "x-BsBs2QSvsu"
      },
      "source": [
        "import plotly.express as px\n",
        "df = px.data.iris()\n",
        "df"
      ],
      "execution_count": null,
      "outputs": []
    },
    {
      "cell_type": "code",
      "metadata": {
        "id": "pHTDF4qbSiPe"
      },
      "source": [
        "fig = px.scatter(df, x=\"sepal_width\", y=\"sepal_length\", color=\"species\")\n",
        "fig.show()"
      ],
      "execution_count": null,
      "outputs": []
    },
    {
      "cell_type": "code",
      "metadata": {
        "id": "E87XYkpMS5s-"
      },
      "source": [
        "fig = px.scatter_matrix(df, dimensions=\n",
        "                        [\"sepal_width\", \"sepal_length\", \n",
        "                         \"petal_width\", \"petal_length\"])\n",
        "fig.show()"
      ],
      "execution_count": null,
      "outputs": []
    },
    {
      "cell_type": "code",
      "metadata": {
        "id": "c6NUIMydTMoe"
      },
      "source": [
        "fig = px.parallel_coordinates(df, color=\"species_id\", \n",
        "                              labels={\"species_id\": \"Species\",\n",
        "                  \"sepal_width\": \"Sepal Width\", \"sepal_length\": \"Sepal Length\",\n",
        "                  \"petal_width\": \"Petal Width\", \"petal_length\": \"Petal Length\", })\n",
        "                  \n",
        "fig.show()"
      ],
      "execution_count": null,
      "outputs": []
    },
    {
      "cell_type": "code",
      "metadata": {
        "id": "p2cfJy_-Tq9X"
      },
      "source": [
        "fig = px.density_contour(df, x=\"sepal_width\", y=\"sepal_length\")\n",
        "fig.show()"
      ],
      "execution_count": null,
      "outputs": []
    },
    {
      "cell_type": "code",
      "metadata": {
        "id": "4IRfCcUeT9so"
      },
      "source": [
        "fig = px.density_contour(df, x=\"sepal_width\", y=\"sepal_length\", color=\"species\", marginal_x=\"rug\", marginal_y=\"histogram\")\n",
        "fig.show()"
      ],
      "execution_count": null,
      "outputs": []
    },
    {
      "cell_type": "code",
      "metadata": {
        "id": "8sYpl-ZoUHsq"
      },
      "source": [
        "fig = px.density_heatmap(df, x=\"sepal_width\", y=\"sepal_length\", marginal_x=\"rug\", marginal_y=\"histogram\")\n",
        "fig.show()"
      ],
      "execution_count": null,
      "outputs": []
    },
    {
      "cell_type": "code",
      "metadata": {
        "id": "FbFXtUQyURmY"
      },
      "source": [
        "fig = px.scatter(df, x=\"sepal_width\", y=\"sepal_length\", color=\"species\", \n",
        "                 marginal_y=\"violin\",marginal_x=\"box\")\n",
        "fig.show()"
      ],
      "execution_count": null,
      "outputs": []
    },
    {
      "cell_type": "code",
      "metadata": {
        "id": "Dsp6zEelVFMI"
      },
      "source": [
        "import plotly.express as px\n",
        "df = px.data.tips()\n",
        "df"
      ],
      "execution_count": null,
      "outputs": []
    },
    {
      "cell_type": "code",
      "metadata": {
        "id": "STkWROOvVHp3"
      },
      "source": [
        "fig = px.bar(df, x=\"sex\", y=\"total_bill\", color=\"smoker\")\n",
        "fig.show()"
      ],
      "execution_count": null,
      "outputs": []
    },
    {
      "cell_type": "code",
      "metadata": {
        "id": "kC7J5moVVN3X"
      },
      "source": [
        "fig = px.bar(df, x=\"sex\", y=\"total_bill\", color=\"smoker\", barmode=\"group\", facet_row=\"time\", facet_col=\"day\",\n",
        "       category_orders={\"day\": [\"Thur\", \"Fri\", \"Sat\", \"Sun\"], \"time\": [\"Lunch\", \"Dinner\"]})\n",
        "fig.show()"
      ],
      "execution_count": null,
      "outputs": []
    },
    {
      "cell_type": "code",
      "metadata": {
        "id": "FIyTdPDgVbQp"
      },
      "source": [
        "fig = px.parallel_categories(df, color=\"size\")\n",
        "fig.show()"
      ],
      "execution_count": null,
      "outputs": []
    },
    {
      "cell_type": "code",
      "metadata": {
        "id": "_RinlzbRVrSw"
      },
      "source": [
        "fig = px.histogram(df, x=\"total_bill\", y=\"tip\", \n",
        "                   color=\"sex\", marginal=\"rug\", hover_data=df.columns)\n",
        "fig.show()"
      ],
      "execution_count": null,
      "outputs": []
    },
    {
      "cell_type": "code",
      "metadata": {
        "id": "twRK5VuNV3og"
      },
      "source": [
        "fig = px.box(df, x=\"day\", y=\"total_bill\", color=\"smoker\", notched=True)\n",
        "fig.show()"
      ],
      "execution_count": null,
      "outputs": []
    },
    {
      "cell_type": "code",
      "metadata": {
        "id": "D0ksV26dV9gX"
      },
      "source": [
        "fig = px.violin(df, y=\"tip\", x=\"smoker\", color=\"sex\")\n",
        "fig.show()"
      ],
      "execution_count": null,
      "outputs": []
    },
    {
      "cell_type": "code",
      "metadata": {
        "id": "1rjiwCOMWHVw"
      },
      "source": [
        "fig = px.strip(df, x=\"total_bill\", y=\"time\", orientation=\"h\", color=\"smoker\")\n",
        "fig.show()"
      ],
      "execution_count": null,
      "outputs": []
    },
    {
      "cell_type": "code",
      "metadata": {
        "id": "p1xdGj69s4Y1"
      },
      "source": [
        "import plotly.express as px\n",
        "df = px.data.tips()\n",
        "fig = px.bar(df, x=\"total_bill\", y=\"day\", orientation='h')\n",
        "fig.show()"
      ],
      "execution_count": null,
      "outputs": []
    },
    {
      "cell_type": "code",
      "metadata": {
        "id": "-4ha2luPtRxL"
      },
      "source": [
        "import plotly.express as px\n",
        "df = px.data.tips()\n",
        "fig = px.bar(df, x=\"total_bill\", y=\"sex\", color='day', orientation='h',\n",
        "             hover_data=[\"tip\", \"size\"],\n",
        "             )\n",
        "fig.show()"
      ],
      "execution_count": null,
      "outputs": []
    },
    {
      "cell_type": "code",
      "metadata": {
        "id": "Q2lQmMQIqxR8"
      },
      "source": [
        "import plotly.express as px\n",
        "df = px.data.tips()\n",
        "fig = px.pie(df, values='tip', names='day')\n",
        "fig.show()"
      ],
      "execution_count": null,
      "outputs": []
    },
    {
      "cell_type": "code",
      "metadata": {
        "id": "iNz1uEXjzUza"
      },
      "source": [
        "pip install --upgrade plotly"
      ],
      "execution_count": null,
      "outputs": []
    },
    {
      "cell_type": "code",
      "metadata": {
        "id": "ivxl3pd-uIHi"
      },
      "source": [
        "import plotly.express as px\n",
        "df = px.data.tips()\n",
        "fig = px.treemap(df, path=['day', 'time', 'sex'], values='total_bill')\n",
        "fig.show()"
      ],
      "execution_count": null,
      "outputs": []
    },
    {
      "cell_type": "code",
      "metadata": {
        "id": "XWM1EbMizyP5"
      },
      "source": [
        "import plotly.express as px\n",
        "df = px.data.tips()\n",
        "fig = px.sunburst(df, path=['day', 'time', 'sex'], values='total_bill')\n",
        "fig.show()"
      ],
      "execution_count": null,
      "outputs": []
    },
    {
      "cell_type": "code",
      "metadata": {
        "id": "J_qlDqEsWTZ3"
      },
      "source": [
        "from plotly.subplots import make_subplots\n",
        "(make_subplots(rows=1, cols=2)\n",
        "\n",
        " .add_scatter(y=[20, 10, 30], row=1, col=1)\n",
        " .add_bar(y=[30, 20, 10], row=1, col=2)\n",
        " .update_layout()\n",
        " .show())"
      ],
      "execution_count": null,
      "outputs": []
    },
    {
      "cell_type": "code",
      "metadata": {
        "id": "8dcHKwJ4dwA9"
      },
      "source": [
        "from plotly.subplots import make_subplots\n",
        "(make_subplots(rows=2, cols=1)\n",
        "\n",
        " .add_scatter(y=[20, 10, 30], row=1, col=1)\n",
        " .add_bar(y=[30, 20, 10], row=2, col=1)\n",
        " .update_layout()\n",
        " .show())"
      ],
      "execution_count": null,
      "outputs": []
    },
    {
      "cell_type": "code",
      "metadata": {
        "id": "r2d2LpsjqzKn"
      },
      "source": [
        "import plotly.graph_objects as go\n",
        "from plotly.subplots import make_subplots\n",
        "\n",
        "fig = make_subplots(rows=2, cols=2, start_cell=\"bottom-left\")\n",
        "\n",
        "fig.add_trace(go.Scatter(x=[1, 2, 3], y=[4, 5, 6]),\n",
        "              row=1, col=1)\n",
        "\n",
        "fig.add_trace(go.Scatter(x=[20, 30, 40], y=[50, 60, 70]),\n",
        "              row=1, col=2)\n",
        "\n",
        "fig.add_trace(go.Scatter(x=[300, 400, 500], y=[600, 700, 800]),\n",
        "              row=2, col=1)\n",
        "\n",
        "fig.add_trace(go.Scatter(x=[4000, 5000, 6000], y=[7000, 8000, 9000]),\n",
        "              row=2, col=2)\n",
        "\n",
        "fig.show()"
      ],
      "execution_count": null,
      "outputs": []
    },
    {
      "cell_type": "code",
      "metadata": {
        "id": "4pbEp19Qz6Qg"
      },
      "source": [
        "import plotly.express as px\n",
        "import pandas as pd\n",
        "\n",
        "df = pd.DataFrame([\n",
        "    dict(Task=\"Project A\", Start='2019-01-01', Finish='2019-02-28'),\n",
        "    dict(Task=\"Project B\", Start='2019-03-05', Finish='2019-04-15'),\n",
        "    dict(Task=\"Project C\", Start='2019-02-20', Finish='2019-05-30')\n",
        "])\n",
        "\n",
        "fig = px.timeline(df, x_start=\"Start\", x_end=\"Finish\", y=\"Task\")\n",
        "fig.update_yaxes(autorange=\"reversed\") # otherwise tasks are listed from the bottom up\n",
        "fig.show()"
      ],
      "execution_count": null,
      "outputs": []
    },
    {
      "cell_type": "code",
      "metadata": {
        "id": "aVncnCpsd4hd"
      },
      "source": [
        "import plotly.graph_objects as go\n",
        "\n",
        "fig = go.Figure()\n",
        "\n",
        "config = dict({'scrollZoom': True})\n",
        "\n",
        "fig.add_trace(\n",
        "    go.Scatter(\n",
        "        x=[1, 2, 3],\n",
        "        y=[10, 30, 10]))\n",
        "\n",
        "fig.show(config=config)"
      ],
      "execution_count": null,
      "outputs": []
    },
    {
      "cell_type": "code",
      "metadata": {
        "id": "C9XuGJPBiZQX"
      },
      "source": [
        "import plotly.graph_objects as go\n",
        "\n",
        "fig = go.Figure(go.Scatter(\n",
        "    x = [1, 2, 3, 4, 5, 6, 7, 8, 9, 10],\n",
        "    y = [28.8, 28.5, 37, 56.8, 69.7, 79.7, 78.5, 77.8, 74.1, 62.6]\n",
        "))\n",
        "\n",
        "fig.update_layout()\n",
        "\n",
        "\n",
        "fig.show()"
      ],
      "execution_count": null,
      "outputs": []
    },
    {
      "cell_type": "code",
      "metadata": {
        "id": "s_liNFTvpnkw"
      },
      "source": [
        "\n",
        "fig = go.Figure()\n",
        "\n",
        "fig.add_trace(\n",
        "    go.Scatter(\n",
        "        x=[0, 1, 2, 3, 4, 5],\n",
        "        y=[1.5, 1, 1.3, 0.7, 0.8, 0.9]\n",
        "    ))\n",
        "\n",
        "fig.add_trace(\n",
        "    go.Bar(\n",
        "        x=[0, 1, 2, 3, 4, 5],\n",
        "        y=[1.5, 1, 1.3, 0.7, 0.8, 0.9]\n",
        "    ))\n",
        "\n",
        "fig.show()"
      ],
      "execution_count": null,
      "outputs": []
    },
    {
      "cell_type": "code",
      "metadata": {
        "id": "735fsfEzrHdL"
      },
      "source": [
        "import plotly.graph_objects as go\n",
        "import numpy as np\n",
        "\n",
        "x = np.arange(10)  # 0 to 9\n",
        "\n",
        "fig = go.Figure(data=go.Scatter(x=x, y=x/2))\n",
        "fig.show()"
      ],
      "execution_count": null,
      "outputs": []
    },
    {
      "cell_type": "code",
      "metadata": {
        "id": "98GaIkAir7gc"
      },
      "source": [
        "import plotly.express as px\n",
        "fig = px.scatter(x=[0, 1, 2, 3, 4], y=[0, 1, 4, 9, 16])\n",
        "fig.show()"
      ],
      "execution_count": null,
      "outputs": []
    },
    {
      "cell_type": "code",
      "metadata": {
        "id": "sNluK8tQqT0k"
      },
      "source": [
        "import plotly.graph_objects as go\n",
        "\n",
        "fig = go.Figure(data=[go.Scatter(\n",
        "    x=[1, 2, 3, 4], y=[10, 11, 12, 13],\n",
        "    mode='markers',\n",
        "    marker_size=[40, 60, 80, 20])\n",
        "])\n",
        "\n",
        "fig.show()"
      ],
      "execution_count": null,
      "outputs": []
    },
    {
      "cell_type": "code",
      "metadata": {
        "id": "NRr65EbpsVwD"
      },
      "source": [
        "import plotly.graph_objects as go\n",
        "import numpy as np\n",
        "\n",
        "N = 1000\n",
        "t = np.linspace(0, 10, 100)\n",
        "y = np.sin(t)\n",
        "\n",
        "fig = go.Figure(data=go.Scatter(x=t, y=y, mode='markers'))\n",
        "\n",
        "fig.show()"
      ],
      "execution_count": null,
      "outputs": []
    }
  ]
}